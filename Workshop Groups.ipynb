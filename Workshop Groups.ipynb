{
 "cells": [
  {
   "cell_type": "code",
   "execution_count": 1,
   "metadata": {},
   "outputs": [
    {
     "data": {
      "text/plain": [
       "'/Users/batesje/Desktop/cms-workshop'"
      ]
     },
     "execution_count": 1,
     "metadata": {},
     "output_type": "execute_result"
    }
   ],
   "source": [
    "pwd"
   ]
  },
  {
   "cell_type": "code",
   "execution_count": 4,
   "metadata": {},
   "outputs": [
    {
     "name": "stdout",
     "output_type": "stream",
     "text": [
      "outfiles/ethanol.out\n"
     ]
    }
   ],
   "source": [
    "import os\n",
    "\n",
    "ethanol_file = os.path.join('outfiles', 'ethanol.out')\n",
    "print(ethanol_file)"
   ]
  },
  {
   "cell_type": "code",
   "execution_count": 5,
   "metadata": {},
   "outputs": [],
   "source": [
    "outfile = open(ethanol_file, 'r')"
   ]
  },
  {
   "cell_type": "code",
   "execution_count": 6,
   "metadata": {},
   "outputs": [],
   "source": [
    "data = outfile.readlines()"
   ]
  },
  {
   "cell_type": "code",
   "execution_count": 8,
   "metadata": {},
   "outputs": [],
   "source": [
    "outfile.close()"
   ]
  },
  {
   "cell_type": "code",
   "execution_count": 10,
   "metadata": {},
   "outputs": [
    {
     "name": "stdout",
     "output_type": "stream",
     "text": [
      "270\n"
     ]
    }
   ],
   "source": [
    "print(len(data))"
   ]
  },
  {
   "cell_type": "code",
   "execution_count": 11,
   "metadata": {},
   "outputs": [
    {
     "name": "stdout",
     "output_type": "stream",
     "text": [
      "\n",
      "\n",
      "    -----------------------------------------------------------------------\n",
      "\n",
      "          Psi4: An Open-Source Ab Initio Electronic Structure Package\n",
      "\n",
      "                               Psi4 1.1 release\n",
      "\n",
      "\n",
      "\n",
      "                         Git: Rev {HEAD} add49b9 \n",
      "\n",
      "\n",
      "\n",
      "\n",
      "\n",
      "    R. M. Parrish, L. A. Burns, D. G. A. Smith, A. C. Simmonett,\n",
      "\n",
      "    A. E. DePrince III, E. G. Hohenstein, U. Bozkaya, A. Yu. Sokolov,\n",
      "\n",
      "    R. Di Remigio, R. M. Richard, J. F. Gonthier, A. M. James,\n",
      "\n",
      "    H. R. McAlexander, A. Kumar, M. Saitow, X. Wang, B. P. Pritchard,\n",
      "\n",
      "    P. Verma, H. F. Schaefer III, K. Patkowski, R. A. King, E. F. Valeev,\n",
      "\n",
      "    F. A. Evangelista, J. M. Turney, T. D. Crawford, and C. D. Sherrill,\n",
      "\n",
      "    J. Chem. Theory Comput. in press (2017).\n",
      "\n",
      "    (doi: 10.1021/acs.jctc.7b00174)\n",
      "\n",
      "\n",
      "\n",
      "    -----------------------------------------------------------------------\n",
      "\n",
      "\n",
      "\n",
      "\n",
      "\n",
      "    Psi4 started on: Tuesday, 27 June 2017 12:10PM\n",
      "\n",
      "\n",
      "\n",
      "    Process ID:  10591\n",
      "\n",
      "    PSIDATADIR: /Users/armcdona/psi4conda/share/psi4\n",
      "\n",
      "    Memory:     500.0 MiB\n",
      "\n",
      "    Threads:    1\n",
      "\n",
      "    \n",
      "\n",
      "  ==> Input File <==\n",
      "\n",
      "\n",
      "\n",
      "--------------------------------------------------------------------------\n",
      "\n",
      "#! You can write anything you want; this is a test\n",
      "\n",
      "\n",
      "\n",
      "molecule ethanol {\n",
      "\n",
      "H        0.011242      0.005860      0.004848\n",
      "\n",
      "C       -0.013516     -0.004055      1.099557\n",
      "\n",
      "H        1.026838      0.005859      1.441119\n",
      "\n",
      "H       -0.508712      0.905913      1.449714\n",
      "\n",
      "C       -0.729377     -1.238026      1.605747\n",
      "\n",
      "H       -1.761756     -1.258491      1.244036\n",
      "\n",
      "H       -0.732480     -1.258491      2.699654\n",
      "\n",
      "O       -0.054692     -2.392519      1.128673\n",
      "\n",
      "H       -0.536299     -3.165575      1.469220\n",
      "\n",
      "}\n",
      "\n",
      "\n",
      "\n",
      "set basis cc-pVDZ\n",
      "\n",
      "energy('scf')--------------------------------------------------------------------------\n",
      "\n",
      "\n",
      "\n",
      "*** tstart() called on csm-armcdona-m1\n",
      "\n",
      "*** at Tue Jun 27 12:10:00 2017\n",
      "\n",
      "\n",
      "\n",
      "   => Loading Basis Set <=\n",
      "\n",
      "\n",
      "\n",
      "    Name: CC-PVDZ\n",
      "\n",
      "    Role: ORBITAL\n",
      "\n",
      "    Keyword: BASIS\n",
      "\n",
      "    atoms 1, 3-4, 6-7, 9 entry H          line    20 file /Users/armcdona/psi4conda/share/psi4/basis/cc-pvdz.gbs \n",
      "\n",
      "    atoms 2, 5           entry C          line   130 file /Users/armcdona/psi4conda/share/psi4/basis/cc-pvdz.gbs \n",
      "\n",
      "    atoms 8              entry O          line   190 file /Users/armcdona/psi4conda/share/psi4/basis/cc-pvdz.gbs \n",
      "\n",
      "\n",
      "\n",
      "    There are an even number of electrons - assuming singlet.\n",
      "\n",
      "    Specify the multiplicity in the molecule input block.\n",
      "\n",
      "\n",
      "\n",
      "\n",
      "\n",
      "         ---------------------------------------------------------\n",
      "\n",
      "                                   SCF\n",
      "\n",
      "            by Justin Turney, Rob Parrish, and Andy Simmonett\n",
      "\n",
      "                              RHF Reference\n",
      "\n",
      "                        1 Threads,    500 MiB Core\n",
      "\n",
      "         ---------------------------------------------------------\n",
      "\n",
      "\n",
      "\n",
      "  ==> Geometry <==\n",
      "\n",
      "\n",
      "\n",
      "    Molecular point group: c1\n",
      "\n",
      "    Full point group: C1\n",
      "\n",
      "\n",
      "\n",
      "    Geometry (in Angstrom), charge = 0, multiplicity = 1:\n",
      "\n",
      "\n",
      "\n",
      "       Center              X                  Y                   Z               Mass       \n",
      "\n",
      "    ------------   -----------------  -----------------  -----------------  -----------------\n",
      "\n",
      "           H          0.278612764252     1.265047047666    -1.274211449480     1.007825032070\n",
      "\n",
      "           C          0.253854764252     1.255132047666    -0.179502449480    12.000000000000\n",
      "\n",
      "           H          1.294208764252     1.265046047666     0.162059550520     1.007825032070\n",
      "\n",
      "           H         -0.241341235748     2.165100047666     0.170654550520     1.007825032070\n",
      "\n",
      "           C         -0.462006235748     0.021161047666     0.326687550520    12.000000000000\n",
      "\n",
      "           H         -1.494385235748     0.000696047666    -0.035023449480     1.007825032070\n",
      "\n",
      "           H         -0.465109235748     0.000696047666     1.420594550520     1.007825032070\n",
      "\n",
      "           O          0.212678764252    -1.133331952334    -0.150386449480    15.994914619560\n",
      "\n",
      "           H         -0.268928235748    -1.906387952334     0.190160550520     1.007825032070\n",
      "\n",
      "\n",
      "\n",
      "  Running in c1 symmetry.\n",
      "\n",
      "\n",
      "\n",
      "  Rotational constants: A =      1.19639  B =      0.31014  C =      0.27136 [cm^-1]\n",
      "\n",
      "  Rotational constants: A =  35866.92932  B =   9297.74675  C =   8135.03541 [MHz]\n",
      "\n",
      "  Nuclear repulsion =   81.804973313181932\n",
      "\n",
      "\n",
      "\n",
      "  Charge       = 0\n",
      "\n",
      "  Multiplicity = 1\n",
      "\n",
      "  Electrons    = 26\n",
      "\n",
      "  Nalpha       = 13\n",
      "\n",
      "  Nbeta        = 13\n",
      "\n",
      "\n",
      "\n",
      "  ==> Algorithm <==\n",
      "\n",
      "\n",
      "\n",
      "  SCF Algorithm Type is DF.\n",
      "\n",
      "  DIIS enabled.\n",
      "\n",
      "  MOM disabled.\n",
      "\n",
      "  Fractional occupation disabled.\n",
      "\n",
      "  Guess Type is SAD.\n",
      "\n",
      "  Energy threshold   = 1.00e-06\n",
      "\n",
      "  Density threshold  = 1.00e-06\n",
      "\n",
      "  Integral threshold = 0.00e+00\n",
      "\n",
      "\n",
      "\n",
      "  ==> Primary Basis <==\n",
      "\n",
      "\n",
      "\n",
      "  Basis Set: CC-PVDZ\n",
      "\n",
      "    Blend: CC-PVDZ\n",
      "\n",
      "    Number of shells: 36\n",
      "\n",
      "    Number of basis function: 72\n",
      "\n",
      "    Number of Cartesian functions: 75\n",
      "\n",
      "    Spherical Harmonics?: true\n",
      "\n",
      "    Max angular momentum: 2\n",
      "\n",
      "\n",
      "\n",
      "   => Loading Basis Set <=\n",
      "\n",
      "\n",
      "\n",
      "    Name: (CC-PVDZ AUX)\n",
      "\n",
      "    Role: JKFIT\n",
      "\n",
      "    Keyword: DF_BASIS_SCF\n",
      "\n",
      "    atoms 1, 3-4, 6-7, 9 entry H          line    50 file /Users/armcdona/psi4conda/share/psi4/basis/cc-pvdz-jkfit.gbs \n",
      "\n",
      "    atoms 2, 5           entry C          line   120 file /Users/armcdona/psi4conda/share/psi4/basis/cc-pvdz-jkfit.gbs \n",
      "\n",
      "    atoms 8              entry O          line   220 file /Users/armcdona/psi4conda/share/psi4/basis/cc-pvdz-jkfit.gbs \n",
      "\n",
      "\n",
      "\n",
      "  ==> Pre-Iterations <==\n",
      "\n",
      "\n",
      "\n",
      "   -------------------------------------------------------\n",
      "\n",
      "    Irrep   Nso     Nmo     Nalpha   Nbeta   Ndocc  Nsocc\n",
      "\n",
      "   -------------------------------------------------------\n",
      "\n",
      "     A         72      72       0       0       0       0\n",
      "\n",
      "   -------------------------------------------------------\n",
      "\n",
      "    Total      72      72      13      13      13       0\n",
      "\n",
      "   -------------------------------------------------------\n",
      "\n",
      "\n",
      "\n",
      "  ==> Integral Setup <==\n",
      "\n",
      "\n",
      "\n",
      "  ==> DFJK: Density-Fitted J/K Matrices <==\n",
      "\n",
      "\n",
      "\n",
      "    J tasked:                  Yes\n",
      "\n",
      "    K tasked:                  Yes\n",
      "\n",
      "    wK tasked:                  No\n",
      "\n",
      "    OpenMP threads:              1\n",
      "\n",
      "    Integrals threads:           1\n",
      "\n",
      "    Memory (MB):               375\n",
      "\n",
      "    Algorithm:                Core\n",
      "\n",
      "    Integral Cache:           NONE\n",
      "\n",
      "    Schwarz Cutoff:          1E-12\n",
      "\n",
      "    Fitting Condition:       1E-12\n",
      "\n",
      "\n",
      "\n",
      "   => Auxiliary Basis Set <=\n",
      "\n",
      "\n",
      "\n",
      "  Basis Set: (CC-PVDZ AUX)\n",
      "\n",
      "    Blend: CC-PVDZ-JKFIT\n",
      "\n",
      "    Number of shells: 126\n",
      "\n",
      "    Number of basis function: 348\n",
      "\n",
      "    Number of Cartesian functions: 393\n",
      "\n",
      "    Spherical Harmonics?: true\n",
      "\n",
      "    Max angular momentum: 3\n",
      "\n",
      "\n",
      "\n",
      "  Minimum eigenvalue in the overlap matrix is 6.1615207161E-03.\n",
      "\n",
      "  Using Symmetric Orthogonalization.\n",
      "\n",
      "\n",
      "\n",
      "  SCF Guess: Superposition of Atomic Densities via on-the-fly atomic UHF.\n",
      "\n",
      "\n",
      "\n",
      "  ==> Iterations <==\n",
      "\n",
      "\n",
      "\n",
      "                           Total Energy        Delta E     RMS |[F,P]|\n",
      "\n",
      "\n",
      "\n",
      "   @DF-RHF iter   0:  -155.10365249375823   -1.55104e+02   4.53015e-02 \n",
      "\n",
      "   @DF-RHF iter   1:  -154.01069491612421    1.09296e+00   4.72706e-03 \n",
      "\n",
      "   @DF-RHF iter   2:  -154.08072318140574   -7.00283e-02   1.85857e-03 DIIS\n",
      "\n",
      "   @DF-RHF iter   3:  -154.08948719255255   -8.76401e-03   6.74889e-04 DIIS\n",
      "\n",
      "   @DF-RHF iter   4:  -154.09117177055145   -1.68458e-03   1.58963e-04 DIIS\n",
      "\n",
      "   @DF-RHF iter   5:  -154.09128893560870   -1.17165e-04   4.54749e-05 DIIS\n",
      "\n",
      "   @DF-RHF iter   6:  -154.09130079349944   -1.18579e-05   1.31995e-05 DIIS\n",
      "\n",
      "   @DF-RHF iter   7:  -154.09130170057145   -9.07072e-07   2.83994e-06 DIIS\n",
      "\n",
      "   @DF-RHF iter   8:  -154.09130176573018   -6.51587e-08   7.05545e-07 DIIS\n",
      "\n",
      "\n",
      "\n",
      "  ==> Post-Iterations <==\n",
      "\n",
      "\n",
      "\n",
      "    Orbital Energies (a.u.)\n",
      "\n",
      "    -----------------------\n",
      "\n",
      "\n",
      "\n",
      "    Doubly Occupied:                                                      \n",
      "\n",
      "\n",
      "\n",
      "       1A    -20.546800     2A    -11.275095     3A    -11.219194  \n",
      "\n",
      "       4A     -1.348904     5A     -1.008482     6A     -0.830928  \n",
      "\n",
      "       7A     -0.687787     8A     -0.642241     9A     -0.566722  \n",
      "\n",
      "      10A     -0.530314    11A     -0.519527    12A     -0.481883  \n",
      "\n",
      "      13A     -0.433845  \n",
      "\n",
      "\n",
      "\n",
      "    Virtual:                                                              \n",
      "\n",
      "\n",
      "\n",
      "      14A      0.180940    15A      0.215018    16A      0.246070  \n",
      "\n",
      "      17A      0.251127    18A      0.267963    19A      0.292938  \n",
      "\n",
      "      20A      0.381996    21A      0.396231    22A      0.603706  \n",
      "\n",
      "      23A      0.615847    24A      0.664225    25A      0.752044  \n",
      "\n",
      "      26A      0.757291    27A      0.804155    28A      0.864841  \n",
      "\n",
      "      29A      0.872855    30A      0.889502    31A      0.896591  \n",
      "\n",
      "      32A      0.907855    33A      0.940941    34A      1.131195  \n",
      "\n",
      "      35A      1.155522    36A      1.172297    37A      1.258058  \n",
      "\n",
      "      38A      1.331160    39A      1.426371    40A      1.468358  \n",
      "\n",
      "      41A      1.517174    42A      1.567678    43A      1.599506  \n",
      "\n",
      "      44A      1.691808    45A      1.783132    46A      1.866083  \n",
      "\n",
      "      47A      1.890906    48A      1.892378    49A      1.915291  \n",
      "\n",
      "      50A      1.939375    51A      1.972358    52A      1.983727  \n",
      "\n",
      "      53A      2.003589    54A      2.100718    55A      2.199911  \n",
      "\n",
      "      56A      2.243703    57A      2.282336    58A      2.316926  \n",
      "\n",
      "      59A      2.469974    60A      2.516843    61A      2.524986  \n",
      "\n",
      "      62A      2.586064    63A      2.756948    64A      2.775491  \n",
      "\n",
      "      65A      2.808122    66A      2.899507    67A      2.915802  \n",
      "\n",
      "      68A      3.330513    69A      3.407987    70A      3.474254  \n",
      "\n",
      "      71A      3.601498    72A      4.107129  \n",
      "\n",
      "\n",
      "\n",
      "    Final Occupation by Irrep:\n",
      "\n",
      "              A \n",
      "\n",
      "    DOCC [    13 ]\n",
      "\n",
      "\n",
      "\n",
      "  Energy converged.\n",
      "\n",
      "\n",
      "\n",
      "  @DF-RHF Final Energy:  -154.09130176573018\n",
      "\n",
      "\n",
      "\n",
      "   => Energetics <=\n",
      "\n",
      "\n",
      "\n",
      "    Nuclear Repulsion Energy =             81.8049733131819323\n",
      "\n",
      "    One-Electron Energy =                -371.6091065733360210\n",
      "\n",
      "    Two-Electron Energy =                 135.7128314944239378\n",
      "\n",
      "    DFT Exchange-Correlation Energy =       0.0000000000000000\n",
      "\n",
      "    Empirical Dispersion Energy =           0.0000000000000000\n",
      "\n",
      "    PCM Polarization Energy =               0.0000000000000000\n",
      "\n",
      "    EFP Energy =                            0.0000000000000000\n",
      "\n",
      "    Total Energy =                       -154.0913017657301793\n",
      "\n",
      "\n",
      "\n",
      "\n",
      "\n",
      "\n",
      "\n",
      "Properties will be evaluated at   0.000000,   0.000000,   0.000000 Bohr\n",
      "\n",
      "\n",
      "\n",
      "Properties computed using the SCF density matrix\n",
      "\n",
      "\n",
      "\n",
      "  Nuclear Dipole Moment: (a.u.)\n",
      "\n",
      "     X:    -0.8398      Y:     2.6103      Z:     0.5939\n",
      "\n",
      "\n",
      "\n",
      "  Electronic Dipole Moment: (a.u.)\n",
      "\n",
      "     X:     0.2905      Y:    -2.6019      Z:    -0.2054\n",
      "\n",
      "\n",
      "\n",
      "  Dipole Moment: (a.u.)\n",
      "\n",
      "     X:    -0.5493      Y:     0.0084      Z:     0.3884     Total:     0.6728\n",
      "\n",
      "\n",
      "\n",
      "  Dipole Moment: (Debye)\n",
      "\n",
      "     X:    -1.3962      Y:     0.0213      Z:     0.9873     Total:     1.7101\n",
      "\n",
      "\n",
      "\n",
      "\n",
      "\n",
      "*** tstop() called on csm-armcdona-m1 at Tue Jun 27 12:10:01 2017\n",
      "\n",
      "Module time:\n",
      "\n",
      "\tuser time   =       1.10 seconds =       0.02 minutes\n",
      "\n",
      "\tsystem time =       0.06 seconds =       0.00 minutes\n",
      "\n",
      "\ttotal time  =          1 seconds =       0.02 minutes\n",
      "\n",
      "Total time:\n",
      "\n",
      "\tuser time   =       1.10 seconds =       0.02 minutes\n",
      "\n",
      "\tsystem time =       0.06 seconds =       0.00 minutes\n",
      "\n",
      "\ttotal time  =          1 seconds =       0.02 minutes\n",
      "\n",
      "\n",
      "\n",
      "*** Psi4 exiting successfully. Buy a developer a beer!\n",
      "\n"
     ]
    }
   ],
   "source": [
    "for line in data:\n",
    "    print(line)"
   ]
  },
  {
   "cell_type": "code",
   "execution_count": 13,
   "metadata": {},
   "outputs": [
    {
     "name": "stdout",
     "output_type": "stream",
     "text": [
      "  @DF-RHF Final Energy:  -154.09130176573018\n",
      "\n"
     ]
    }
   ],
   "source": [
    "for line in data:\n",
    "    if 'Final Energy' in line:\n",
    "        energy_line = line\n",
    "        print(line)"
   ]
  },
  {
   "cell_type": "code",
   "execution_count": 14,
   "metadata": {},
   "outputs": [
    {
     "data": {
      "text/plain": [
       "['  @DF-RHF Final Energy', '  -154.09130176573018\\n']"
      ]
     },
     "execution_count": 14,
     "metadata": {},
     "output_type": "execute_result"
    }
   ],
   "source": [
    "energy_line.split(\":\")"
   ]
  },
  {
   "cell_type": "code",
   "execution_count": 17,
   "metadata": {},
   "outputs": [],
   "source": [
    "words = energy_line.split()"
   ]
  },
  {
   "cell_type": "code",
   "execution_count": 18,
   "metadata": {},
   "outputs": [],
   "source": [
    "energy = float(words[3])"
   ]
  },
  {
   "cell_type": "code",
   "execution_count": 19,
   "metadata": {},
   "outputs": [
    {
     "data": {
      "text/plain": [
       "-104.09130176573018"
      ]
     },
     "execution_count": 19,
     "metadata": {},
     "output_type": "execute_result"
    }
   ],
   "source": [
    "energy+50"
   ]
  },
  {
   "cell_type": "code",
   "execution_count": 20,
   "metadata": {},
   "outputs": [
    {
     "name": "stdout",
     "output_type": "stream",
     "text": [
      "77\n",
      "       Center              X                  Y                   Z               Mass       \n",
      "\n"
     ]
    }
   ],
   "source": [
    "for linenum, line in enumerate(data):\n",
    "    if 'Center' in line:\n",
    "        print(linenum)\n",
    "        print(line)"
   ]
  },
  {
   "cell_type": "code",
   "execution_count": 23,
   "metadata": {},
   "outputs": [
    {
     "name": "stdout",
     "output_type": "stream",
     "text": [
      "       Center              X                  Y                   Z               Mass       \n",
      "    ------------   -----------------  -----------------  -----------------  -----------------\n",
      "           H          0.278612764252     1.265047047666    -1.274211449480     1.007825032070\n",
      "           C          0.253854764252     1.255132047666    -0.179502449480    12.000000000000\n",
      "           H          1.294208764252     1.265046047666     0.162059550520     1.007825032070\n",
      "\n"
     ]
    }
   ],
   "source": [
    "print(''.join(data[77:82]))"
   ]
  },
  {
   "cell_type": "markdown",
   "metadata": {},
   "source": [
    "### Second Section : Parsing multiple files"
   ]
  },
  {
   "cell_type": "code",
   "execution_count": 24,
   "metadata": {},
   "outputs": [],
   "source": [
    "file_location = os.path.join('outfiles','*.out')"
   ]
  },
  {
   "cell_type": "code",
   "execution_count": 25,
   "metadata": {},
   "outputs": [
    {
     "name": "stdout",
     "output_type": "stream",
     "text": [
      "['outfiles/propanol.out', 'outfiles/pentanol.out', 'outfiles/decanol.out', 'outfiles/methanol.out', 'outfiles/octanol.out', 'outfiles/ethanol.out', 'outfiles/hexanol.out', 'outfiles/heptanol.out', 'outfiles/butanol.out', 'outfiles/nonanol.out']\n"
     ]
    }
   ],
   "source": [
    "import glob\n",
    "filenames = glob.glob(file_location)\n",
    "print(filenames)"
   ]
  },
  {
   "cell_type": "code",
   "execution_count": 28,
   "metadata": {},
   "outputs": [
    {
     "name": "stdout",
     "output_type": "stream",
     "text": [
      "outfiles/propanol.out -193.12836249728798\n",
      "outfiles/pentanol.out -271.20138119895074\n",
      "outfiles/decanol.out -466.3836241400086\n",
      "outfiles/methanol.out -115.04800861868374\n",
      "outfiles/octanol.out -388.3110864554743\n",
      "outfiles/ethanol.out -154.09130176573018\n",
      "outfiles/hexanol.out -310.2385332251633\n",
      "outfiles/heptanol.out -349.27397687072676\n",
      "outfiles/butanol.out -232.1655798347283\n",
      "outfiles/nonanol.out -427.3465180082815\n"
     ]
    }
   ],
   "source": [
    "for f in filenames:\n",
    "    outfile = open(f, 'r')\n",
    "    data = outfile.readlines()\n",
    "    outfile.close()\n",
    "    for line in data:\n",
    "        if 'Final Energy' in line:\n",
    "            energy_line = line\n",
    "            words = line.split()\n",
    "            print(f,float(words[3]))"
   ]
  },
  {
   "cell_type": "code",
   "execution_count": 32,
   "metadata": {},
   "outputs": [],
   "source": [
    "molecule_name = os.path.basename(filenames[0]).split('.')[0]"
   ]
  },
  {
   "cell_type": "code",
   "execution_count": 33,
   "metadata": {},
   "outputs": [
    {
     "name": "stdout",
     "output_type": "stream",
     "text": [
      "propanol -193.12836249728798\n",
      "pentanol -271.20138119895074\n",
      "decanol -466.3836241400086\n",
      "methanol -115.04800861868374\n",
      "octanol -388.3110864554743\n",
      "ethanol -154.09130176573018\n",
      "hexanol -310.2385332251633\n",
      "heptanol -349.27397687072676\n",
      "butanol -232.1655798347283\n",
      "nonanol -427.3465180082815\n"
     ]
    }
   ],
   "source": [
    "for f in filenames:\n",
    "    # open the file\n",
    "    outfile = open(f, 'r')\n",
    "    data = outfile.readlines()\n",
    "    outfile.close()\n",
    "    # get the molecule name\n",
    "    molecule_name = os.path.basename(f).split('.')[0]\n",
    "    for line in data:\n",
    "        # isolate the energies and print them out\n",
    "        if 'Final Energy' in line:\n",
    "            energy_line = line\n",
    "            words = line.split()\n",
    "            print(molecule_name,float(words[3]))"
   ]
  },
  {
   "cell_type": "code",
   "execution_count": 35,
   "metadata": {},
   "outputs": [
    {
     "name": "stdout",
     "output_type": "stream",
     "text": [
      "propanol -193.12836249728798\n",
      "pentanol -271.20138119895074\n",
      "decanol -466.3836241400086\n",
      "methanol -115.04800861868374\n",
      "octanol -388.3110864554743\n",
      "ethanol -154.09130176573018\n",
      "hexanol -310.2385332251633\n",
      "heptanol -349.27397687072676\n",
      "butanol -232.1655798347283\n",
      "nonanol -427.3465180082815\n"
     ]
    }
   ],
   "source": [
    "datafile = open('energies.txt', 'w+') # the output file with energies\n",
    "for f in filenames:\n",
    "    # open the file\n",
    "    outfile = open(f, 'r')\n",
    "    data = outfile.readlines()\n",
    "    outfile.close()\n",
    "    # get the molecule name\n",
    "    molecule_name = os.path.basename(f).split('.')[0]\n",
    "    for line in data:\n",
    "        # isolate the energies and print them out\n",
    "        if 'Final Energy' in line:\n",
    "            energy_line = line\n",
    "            words = line.split()\n",
    "            print(molecule_name,float(words[3]))\n",
    "            datafile.write(F'{molecule_name} {float(words[3]):.6f}\\n')\n",
    "datafile.close()"
   ]
  },
  {
   "cell_type": "code",
   "execution_count": 39,
   "metadata": {},
   "outputs": [
    {
     "name": "stdout",
     "output_type": "stream",
     "text": [
      "[['Frame' 'THR4_ATP' 'THR4_ASP' 'TYR6_ATP' 'TYR6_ASP']\n",
      " ['1' '8.9542' '5.8024' '11.5478' '9.9557']\n",
      " ['2' '8.6181' '6.0942' '13.9594' '11.6945']\n",
      " ...\n",
      " ['9998' '8.6625' '7.7306' '9.5469' '10.3063']\n",
      " ['9999' '9.2456' '7.8886' '9.8151' '10.7564']\n",
      " ['10000' '8.8135' '7.917' '9.9517' '10.7848']]\n"
     ]
    }
   ],
   "source": [
    "import numpy\n",
    "\n",
    "distance_file = os.path.join('', 'distance_data_headers.csv')\n",
    "\n",
    "distances = numpy.genfromtxt(fname=distance_file, delimiter=',', dtype='unicode')\n",
    "print(distances)"
   ]
  },
  {
   "cell_type": "code",
   "execution_count": 40,
   "metadata": {},
   "outputs": [
    {
     "name": "stdout",
     "output_type": "stream",
     "text": [
      "['Frame' 'THR4_ATP' 'THR4_ASP' 'TYR6_ATP' 'TYR6_ASP']\n"
     ]
    }
   ],
   "source": [
    "headers = distances[0]\n",
    "print(headers)"
   ]
  },
  {
   "cell_type": "code",
   "execution_count": 42,
   "metadata": {},
   "outputs": [
    {
     "name": "stdout",
     "output_type": "stream",
     "text": [
      "[['1' '8.9542' '5.8024' '11.5478' '9.9557']\n",
      " ['2' '8.6181' '6.0942' '13.9594' '11.6945']\n",
      " ['3' '9.0066' '6.0637' '13.0924' '11.3043']\n",
      " ...\n",
      " ['9998' '8.6625' '7.7306' '9.5469' '10.3063']\n",
      " ['9999' '9.2456' '7.8886' '9.8151' '10.7564']\n",
      " ['10000' '8.8135' '7.917' '9.9517' '10.7848']]\n"
     ]
    }
   ],
   "source": [
    "data = distances[1:]\n",
    "print(data)"
   ]
  },
  {
   "cell_type": "code",
   "execution_count": 43,
   "metadata": {},
   "outputs": [
    {
     "name": "stdout",
     "output_type": "stream",
     "text": [
      "[[1.00000e+00 8.95420e+00 5.80240e+00 1.15478e+01 9.95570e+00]\n",
      " [2.00000e+00 8.61810e+00 6.09420e+00 1.39594e+01 1.16945e+01]\n",
      " [3.00000e+00 9.00660e+00 6.06370e+00 1.30924e+01 1.13043e+01]\n",
      " ...\n",
      " [9.99800e+03 8.66250e+00 7.73060e+00 9.54690e+00 1.03063e+01]\n",
      " [9.99900e+03 9.24560e+00 7.88860e+00 9.81510e+00 1.07564e+01]\n",
      " [1.00000e+04 8.81350e+00 7.91700e+00 9.95170e+00 1.07848e+01]]\n"
     ]
    }
   ],
   "source": [
    "data = data.astype(numpy.float)\n",
    "print(data)"
   ]
  },
  {
   "cell_type": "code",
   "execution_count": 44,
   "metadata": {},
   "outputs": [],
   "source": [
    "import matplotlib.pyplot as plt"
   ]
  },
  {
   "cell_type": "code",
   "execution_count": 45,
   "metadata": {},
   "outputs": [
    {
     "data": {
      "text/plain": [
       "[<matplotlib.lines.Line2D at 0x12046f898>]"
      ]
     },
     "execution_count": 45,
     "metadata": {},
     "output_type": "execute_result"
    },
    {
     "data": {
      "image/png": "[encoded data removed]",
      "text/plain": [
       "<Figure size 432x288 with 1 Axes>"
      ]
     },
     "metadata": {
      "needs_background": "light"
     },
     "output_type": "display_data"
    }
   ],
   "source": [
    "plt.figure()\n",
    "plt.plot(data[:,1])"
   ]
  },
  {
   "cell_type": "code",
   "execution_count": 50,
   "metadata": {},
   "outputs": [
    {
     "data": {
      "image/png": "[encoded data removed]",
      "text/plain": [
       "<Figure size 432x288 with 1 Axes>"
      ]
     },
     "metadata": {
      "needs_background": "light"
     },
     "output_type": "display_data"
    }
   ],
   "source": [
    "plt.figure()\n",
    "plt.xlabel('Simulation Frame')\n",
    "plt.ylabel(\"Distance ($\\AA$)\")\n",
    "\n",
    "fig_1 = plt.plot(data[:,1], label=headers[1])\n",
    "plt.legend()\n",
    "\n",
    "plt.savefig(F'{headers[1]}.png', dpi=300)"
   ]
  },
  {
   "cell_type": "code",
   "execution_count": 53,
   "metadata": {},
   "outputs": [
    {
     "data": {
      "text/plain": [
       "<matplotlib.legend.Legend at 0x121a78898>"
      ]
     },
     "execution_count": 53,
     "metadata": {},
     "output_type": "execute_result"
    },
    {
     "data": {
      "image/png": "[encoded data removed]",
      "text/plain": [
       "<Figure size 432x288 with 1 Axes>"
      ]
     },
     "metadata": {
      "needs_background": "light"
     },
     "output_type": "display_data"
    }
   ],
   "source": [
    "plt.figure()\n",
    "plt.xlabel('Frame')\n",
    "plt.ylabel('Distance')\n",
    "plt.plot(data[:,1], label=headers[1])\n",
    "plt.plot(data[:,2], label=headers[2])\n",
    "plt.legend()"
   ]
  },
  {
   "cell_type": "code",
   "execution_count": 57,
   "metadata": {},
   "outputs": [
    {
     "data": {
      "text/plain": [
       "<matplotlib.legend.Legend at 0x120cd66a0>"
      ]
     },
     "execution_count": 57,
     "metadata": {},
     "output_type": "execute_result"
    },
    {
     "data": {
      "image/png": "[encoded data removed]",
      "text/plain": [
       "<Figure size 432x288 with 1 Axes>"
      ]
     },
     "metadata": {
      "needs_background": "light"
     },
     "output_type": "display_data"
    }
   ],
   "source": [
    "plt.figure()\n",
    "plt.xlabel('Frame')\n",
    "plt.ylabel('Distance')\n",
    "#for head, col in zip(headers, data[:,1]):\n",
    "#    plt.plot(col, label=head)\n",
    "for col in range(1, len(data[0,:])):\n",
    "    plt.plot(data[:100,col], label=headers[col])\n",
    "plt.legend()"
   ]
  },
  {
   "cell_type": "code",
   "execution_count": null,
   "metadata": {},
   "outputs": [],
   "source": []
  }
 ],
 "metadata": {
  "kernelspec": {
   "display_name": "Python 3",
   "language": "python",
   "name": "python3"
  },
  "language_info": {
   "codemirror_mode": {
    "name": "ipython",
    "version": 3
   },
   "file_extension": ".py",
   "mimetype": "text/x-python",
   "name": "python",
   "nbconvert_exporter": "python",
   "pygments_lexer": "ipython3",
   "version": "3.7.3"
  }
 },
 "nbformat": 4,
 "nbformat_minor": 2
}
