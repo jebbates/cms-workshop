{
 "cells": [
  {
   "cell_type": "markdown",
   "metadata": {},
   "source": [
    "## MolSSI Workshop - Homework\n",
    "### Geometry Analysis Project\n",
    "### 08/09/2019"
   ]
  },
  {
   "cell_type": "code",
   "execution_count": 1,
   "metadata": {},
   "outputs": [
    {
     "name": "stdout",
     "output_type": "stream",
     "text": [
      "[['Frame' 'THR4_ATP' 'THR4_ASP' 'TYR6_ATP' 'TYR6_ASP']\n",
      " ['1' '8.9542' '5.8024' '11.5478' '9.9557']\n",
      " ['2' '8.6181' '6.0942' '13.9594' '11.6945']\n",
      " ...\n",
      " ['9998' '8.6625' '7.7306' '9.5469' '10.3063']\n",
      " ['9999' '9.2456' '7.8886' '9.8151' '10.7564']\n",
      " ['10000' '8.8135' '7.917' '9.9517' '10.7848']]\n"
     ]
    }
   ],
   "source": [
    "import os\n",
    "import numpy\n",
    "\n",
    "distance_file = 'distance_data_headers.csv'\n",
    "\n",
    "distances = numpy.genfromtxt(fname=distance_file, delimiter=',', dtype='unicode')\n",
    "print(distances)"
   ]
  },
  {
   "cell_type": "code",
   "execution_count": 3,
   "metadata": {},
   "outputs": [
    {
     "name": "stdout",
     "output_type": "stream",
     "text": [
      "[[1.00000e+00 8.95420e+00 5.80240e+00 1.15478e+01 9.95570e+00]\n",
      " [2.00000e+00 8.61810e+00 6.09420e+00 1.39594e+01 1.16945e+01]\n",
      " [3.00000e+00 9.00660e+00 6.06370e+00 1.30924e+01 1.13043e+01]\n",
      " ...\n",
      " [9.99800e+03 8.66250e+00 7.73060e+00 9.54690e+00 1.03063e+01]\n",
      " [9.99900e+03 9.24560e+00 7.88860e+00 9.81510e+00 1.07564e+01]\n",
      " [1.00000e+04 8.81350e+00 7.91700e+00 9.95170e+00 1.07848e+01]]\n"
     ]
    }
   ],
   "source": [
    "# extract data\n",
    "data = distances[1:]\n",
    "data = data.astype(numpy.float) # cast to float type\n",
    "print(data)"
   ]
  },
  {
   "cell_type": "code",
   "execution_count": 13,
   "metadata": {},
   "outputs": [
    {
     "name": "stdout",
     "output_type": "stream",
     "text": [
      "[['O' '0.000000' '-0.007156' '0.965491']\n",
      " ['H1' '-0.000000' '0.001486' '-0.003471']\n",
      " ['H2' '0.000000' '0.931026' '1.207929']]\n"
     ]
    }
   ],
   "source": [
    "# ready to import the water file and execute the project \n",
    "# after the previous brief warmup\n",
    "h2o_filename = 'water.xyz'\n",
    "h2o_raw = numpy.genfromtxt(fname=h2o_filename, dtype='unicode', delimiter=\"\", skip_header=2)\n",
    "print(h2o_raw)"
   ]
  },
  {
   "cell_type": "code",
   "execution_count": 22,
   "metadata": {},
   "outputs": [
    {
     "name": "stdout",
     "output_type": "stream",
     "text": [
      "O to O : 0.000\n",
      "H1 to O : 0.969\n",
      "H2 to O : 0.969\n",
      "O to H1 : 0.969\n",
      "H1 to H1 : 0.000\n",
      "H2 to H1 : 1.527\n",
      "O to H2 : 0.969\n",
      "H1 to H2 : 1.527\n",
      "H2 to H2 : 0.000\n"
     ]
    }
   ],
   "source": [
    "# extract atom labels & coordinates\n",
    "for ii in range(0,len(h2o_raw)):\n",
    "    numcol = len(h2o_raw[0,:])\n",
    "    for jj in range(0,len(h2o_raw)):\n",
    "        label_jj = h2o_raw[jj,0]\n",
    "        label_ii = h2o_raw[ii,0]\n",
    "        coords_jj = numpy.array(h2o_raw[jj,1:numcol]).astype(numpy.float)\n",
    "        coords_ii = numpy.array(h2o_raw[ii,1:numcol]).astype(numpy.float)\n",
    "        diff_vec = coords_jj - coords_ii\n",
    "        result = 0.0\n",
    "        # compute difference vector, take norm\n",
    "        for component in diff_vec:\n",
    "            result = result + component**2.\n",
    "        # compute distance\n",
    "        result = numpy.sqrt(result)\n",
    "        print(F'{label_jj} to {label_ii} : {result:.3f}')"
   ]
  },
  {
   "cell_type": "code",
   "execution_count": 29,
   "metadata": {},
   "outputs": [
    {
     "name": "stdout",
     "output_type": "stream",
     "text": [
      "H1 to O : 0.969\n",
      "H2 to O : 0.969\n",
      "O to H1 : 0.969\n",
      "O to H2 : 0.969\n"
     ]
    }
   ],
   "source": [
    "# extract atom labels & coordinates\n",
    "numcol = len(h2o_raw[0,:])\n",
    "for ii, coords_ii in enumerate(h2o_raw[:,1:]):\n",
    "    for jj, coords_jj in enumerate(h2o_raw[:,1:]):\n",
    "        label_jj = h2o_raw[jj,0]\n",
    "        label_ii = h2o_raw[ii,0]\n",
    "        coords_jj = coords_jj.astype(numpy.float)\n",
    "        coords_ii = coords_ii.astype(numpy.float)\n",
    "        diff_vec = coords_jj - coords_ii\n",
    "        bond_length12 = 0.0\n",
    "        # compute difference vector, take norm\n",
    "        for component in diff_vec:\n",
    "            bond_length12 = bond_length12 + component**2.\n",
    "        # compute distance\n",
    "        bond_length12 = numpy.sqrt(bond_length12)\n",
    "        if (bond_length12 < 1.5) & (bond_length12 > 0.):\n",
    "            print(F'{label_jj} to {label_ii} : {bond_length12:.3f}')"
   ]
  },
  {
   "cell_type": "code",
   "execution_count": 32,
   "metadata": {},
   "outputs": [
    {
     "name": "stdout",
     "output_type": "stream",
     "text": [
      "H1 to O : 0.969\n",
      "H2 to O : 0.969\n"
     ]
    }
   ],
   "source": [
    "for ii in range(0,len(h2o_raw)):\n",
    "    numcol = len(h2o_raw[0,:])\n",
    "    for jj in range(ii,len(h2o_raw)):\n",
    "        label_jj = h2o_raw[jj,0]\n",
    "        label_ii = h2o_raw[ii,0]\n",
    "        coords_jj = numpy.array(h2o_raw[jj,1:numcol]).astype(numpy.float)\n",
    "        coords_ii = numpy.array(h2o_raw[ii,1:numcol]).astype(numpy.float)\n",
    "        diff_vec = coords_jj - coords_ii\n",
    "        result = 0.0\n",
    "        # compute difference vector, take norm\n",
    "        for component in diff_vec:\n",
    "            result = result + component**2.\n",
    "        # compute distance\n",
    "        result = numpy.sqrt(result)\n",
    "        if (result < 1.5) & (result > 0):\n",
    "            print(F'{label_jj} to {label_ii} : {result:.3f}')"
   ]
  },
  {
   "cell_type": "code",
   "execution_count": 38,
   "metadata": {},
   "outputs": [],
   "source": [
    "def calculate_distance(atom1_coord, atom2_coord):\n",
    "    \"\"\"\n",
    "    function to calculate the distance between two atoms. \n",
    "    Inputs : \n",
    "        atom1_coord - 3D coordinates of atom 1\n",
    "        atom2_coord - 3D coordinates of atom 2\n",
    "    Outputs :\n",
    "        distance between atom1 and atom2\n",
    "    \"\"\"\n",
    "    x_distance = atom1_coord[0] - atom2_coord[0]\n",
    "    y_distance = atom1_coord[1] - atom2_coord[1]\n",
    "    z_distance = atom1_coord[2] - atom2_coord[2]    \n",
    "    distance = numpy.sqrt(x_distance**2. + y_distance**2. + z_distance**2.)\n",
    "    return distance"
   ]
  },
  {
   "cell_type": "code",
   "execution_count": 37,
   "metadata": {},
   "outputs": [
    {
     "name": "stdout",
     "output_type": "stream",
     "text": [
      "H1 to O : 0.969\n",
      "H2 to O : 0.969\n"
     ]
    }
   ],
   "source": [
    "# extract atom labels & coordinates\n",
    "numcol = len(h2o_raw[0,:])\n",
    "for ii, coords_ii in enumerate(h2o_raw[:,1:]):\n",
    "    for jj, coords_jj in enumerate(h2o_raw[ii:,1:]):\n",
    "        label_jj = h2o_raw[jj,0]\n",
    "        label_ii = h2o_raw[ii,0]\n",
    "        coords_jj = coords_jj.astype(numpy.float)\n",
    "        coords_ii = coords_ii.astype(numpy.float)        \n",
    "        # calculate bond length\n",
    "        bond_length12 = calculate_distance(coords_ii,coords_jj)\n",
    "        if (bond_length12 < 1.5) & (bond_length12 > 0.):\n",
    "            print(F'{label_jj} to {label_ii} : {bond_length12:.3f}')"
   ]
  },
  {
   "cell_type": "code",
   "execution_count": 39,
   "metadata": {},
   "outputs": [
    {
     "name": "stdout",
     "output_type": "stream",
     "text": [
      "Help on function calculate_distance in module __main__:\n",
      "\n",
      "calculate_distance(atom1_coord, atom2_coord)\n",
      "    function to calculate the distance between two atoms. \n",
      "    Inputs : \n",
      "        atom1_coord - 3D coordinates of atom 1\n",
      "        atom2_coord - 3D coordinates of atom 2\n",
      "    Outputs :\n",
      "        distance between atom1 and atom2\n",
      "\n"
     ]
    }
   ],
   "source": [
    "help(calculate_distance)"
   ]
  },
  {
   "cell_type": "code",
   "execution_count": 49,
   "metadata": {},
   "outputs": [],
   "source": [
    "def bond_check(input_bond_length):\n",
    "    \"\"\"\n",
    "    Check if a given distance is between two cutoffs for a bond length.\n",
    "        Min : 0. ; Max : 1.5\n",
    "    Input : \n",
    "        input_bond_length : bond length to check\n",
    "    Output :\n",
    "        is_a_bond : Boolean (True or False) indicating if distance is between the cutoffs\n",
    "    \"\"\"\n",
    "    is_a_bond = False\n",
    "    if (input_bond_length < 1.5) and (input_bond_length > 0):\n",
    "        is_a_bond = True\n",
    "    else:\n",
    "        is_a_bond = False\n",
    "    return is_a_bond"
   ]
  },
  {
   "cell_type": "code",
   "execution_count": 41,
   "metadata": {},
   "outputs": [
    {
     "name": "stdout",
     "output_type": "stream",
     "text": [
      "Help on function bond_check in module __main__:\n",
      "\n",
      "bond_check(input_bond_length)\n",
      "    Check if a given distance is between two cutoffs for a bond length.\n",
      "        Min : 0. ; Max : 1.5\n",
      "    Input : \n",
      "        input_bond_length : bond length to check\n",
      "    Output :\n",
      "        isabond : Boolean (True or False) indicating if distance is between the cutoffs\n",
      "\n"
     ]
    }
   ],
   "source": [
    "help(bond_check)"
   ]
  },
  {
   "cell_type": "code",
   "execution_count": 51,
   "metadata": {},
   "outputs": [
    {
     "data": {
      "text/plain": [
       "[False, True, False]"
      ]
     },
     "execution_count": 51,
     "metadata": {},
     "output_type": "execute_result"
    }
   ],
   "source": [
    "t1 = [1.6, 0.8, -0.5]\n",
    "list(map(bond_check, t1))"
   ]
  },
  {
   "cell_type": "code",
   "execution_count": 52,
   "metadata": {},
   "outputs": [],
   "source": [
    "# add a min and max\n",
    "def bond_check(distance, min_distance, max_distance):\n",
    "    \"\"\"\n",
    "    Check if a given distance is between two cutoffs for a bond length.\n",
    "    Input : \n",
    "        distance : bond length to check\n",
    "        min_distance : minimum distance allowed\n",
    "        max_distance : maximum distance allowed\n",
    "    Output :\n",
    "        is_a_bond : Boolean (True or False) indicating if distance is between the cutoffs\n",
    "    \"\"\"\n",
    "    is_a_bond = False\n",
    "    if (input_bond_length < max_distance) and (input_bond_length > min_distance):\n",
    "        is_a_bond = True\n",
    "    else:\n",
    "        is_a_bond = False\n",
    "    return is_a_bond"
   ]
  },
  {
   "cell_type": "code",
   "execution_count": 53,
   "metadata": {},
   "outputs": [
    {
     "name": "stdout",
     "output_type": "stream",
     "text": [
      "Help on function bond_check in module __main__:\n",
      "\n",
      "bond_check(distance, min_distance, max_distance)\n",
      "    Check if a given distance is between two cutoffs for a bond length.\n",
      "    Input : \n",
      "        distance : bond length to check\n",
      "        min_distance : minimum distance allowed\n",
      "        max_distance : maximum distance allowed\n",
      "    Output :\n",
      "        is_a_bond : Boolean (True or False) indicating if distance is between the cutoffs\n",
      "\n"
     ]
    }
   ],
   "source": [
    "help(bond_check)"
   ]
  },
  {
   "cell_type": "code",
   "execution_count": 58,
   "metadata": {},
   "outputs": [],
   "source": [
    "# add a default value for min and max distance\n",
    "def bond_check(distance, min_distance=0, max_distance=1.5):\n",
    "    \"\"\"\n",
    "    Check if a given distance is between two cutoffs for a bond length.\n",
    "    Input : \n",
    "        distance : bond length to check\n",
    "        min_distance : minimum distance allowed - default 0. Angstroms \n",
    "        max_distance : maximum distance allowed - default 1.5 Angstroms\n",
    "    Output :\n",
    "        is_a_bond : Boolean (True or False) indicating if distance is between the cutoffs\n",
    "    \"\"\"\n",
    "    is_a_bond = False\n",
    "    if (distance < max_distance) and (distance > min_distance):\n",
    "        is_a_bond = True\n",
    "    else:\n",
    "        is_a_bond = False\n",
    "    return is_a_bond"
   ]
  },
  {
   "cell_type": "code",
   "execution_count": 59,
   "metadata": {},
   "outputs": [
    {
     "name": "stdout",
     "output_type": "stream",
     "text": [
      "H1 to O : 0.969\n",
      "H2 to O : 0.969\n"
     ]
    }
   ],
   "source": [
    "# extract atom labels & coordinates\n",
    "numcol = len(h2o_raw[0,:])\n",
    "for ii, coords_ii in enumerate(h2o_raw[:,1:]):\n",
    "    for jj, coords_jj in enumerate(h2o_raw[ii:,1:]):\n",
    "        label_jj = h2o_raw[jj,0]\n",
    "        label_ii = h2o_raw[ii,0]\n",
    "        coords_jj = coords_jj.astype(numpy.float)\n",
    "        coords_ii = coords_ii.astype(numpy.float)        \n",
    "        # calculate bond length\n",
    "        bond_length12 = calculate_distance(coords_ii,coords_jj)\n",
    "        if bond_check(bond_length12) is True:\n",
    "            print(F'{label_jj} to {label_ii} : {bond_length12:.3f}')"
   ]
  },
  {
   "cell_type": "code",
   "execution_count": 60,
   "metadata": {},
   "outputs": [],
   "source": [
    "# write a function to read in and process an xyz file.\n",
    "# function name : open_xyz\n",
    "# input : filename\n",
    "# output : symbols as numpy array, coordinates as numpy array"
   ]
  },
  {
   "cell_type": "code",
   "execution_count": 67,
   "metadata": {},
   "outputs": [],
   "source": [
    "def open_xyz(input_file):\n",
    "    \"\"\"\n",
    "    function to open and process an xyz coordinate file.\n",
    "    Input : \n",
    "        input_file - name of the file to process\n",
    "    Output :\n",
    "        symbols - numpy array of chemical symbols\n",
    "        coords - numpy array of 3D coordinates\n",
    "    \"\"\"\n",
    "    # since we assume xyz, skip the first two lines\n",
    "    data = numpy.genfromtxt(fname=input_file, dtype='unicode', skip_header=2)\n",
    "    symbols = data[:,0]\n",
    "    coords = data[:,1:].astype(numpy.float)\n",
    "    return symbols, coords"
   ]
  },
  {
   "cell_type": "code",
   "execution_count": 68,
   "metadata": {},
   "outputs": [
    {
     "data": {
      "text/plain": [
       "(array(['O', 'H1', 'H2'], dtype='<U9'),\n",
       " array([[ 0.      , -0.007156,  0.965491],\n",
       "        [-0.      ,  0.001486, -0.003471],\n",
       "        [ 0.      ,  0.931026,  1.207929]]))"
      ]
     },
     "execution_count": 68,
     "metadata": {},
     "output_type": "execute_result"
    }
   ],
   "source": [
    "open_xyz('water.xyz')"
   ]
  },
  {
   "cell_type": "code",
   "execution_count": 71,
   "metadata": {},
   "outputs": [
    {
     "name": "stdout",
     "output_type": "stream",
     "text": [
      "O to H1 : 0.969\n",
      "O to H2 : 0.969\n"
     ]
    }
   ],
   "source": [
    "import numpy \n",
    "import os\n",
    "\n",
    "########################################################################\n",
    "# HEPLER FUNCTIONS \n",
    "def open_xyz(input_file):\n",
    "    \"\"\"\n",
    "    function to open and process an xyz coordinate file.\n",
    "    Input : \n",
    "        input_file - name of the file to process\n",
    "    Output :\n",
    "        symbols - numpy array of chemical symbols\n",
    "        coords - numpy array of 3D coordinates\n",
    "    \"\"\"\n",
    "    # since we assume xyz, skip the first two lines\n",
    "    data = numpy.genfromtxt(fname=input_file, dtype='unicode', skip_header=2)\n",
    "    symbols = data[:,0]\n",
    "    coords = data[:,1:].astype(numpy.float)\n",
    "    return symbols, coords\n",
    "\n",
    "# add a default value for min and max distance\n",
    "def bond_check(distance, min_distance=0, max_distance=1.5):\n",
    "    \"\"\"\n",
    "    Check if a given distance is between two cutoffs for a bond length.\n",
    "    Input : \n",
    "        distance : bond length to check\n",
    "        min_distance : minimum distance allowed - default 0. Angstroms \n",
    "        max_distance : maximum distance allowed - default 1.5 Angstroms\n",
    "    Output :\n",
    "        is_a_bond : Boolean (True or False) indicating if distance is between the cutoffs\n",
    "    \"\"\"\n",
    "    is_a_bond = False\n",
    "    if (distance < max_distance) and (distance > min_distance):\n",
    "        is_a_bond = True\n",
    "    else:\n",
    "        is_a_bond = False\n",
    "    return is_a_bond\n",
    "\n",
    "# calculate a distance for two atom positions\n",
    "def calculate_distance(atom1_coord, atom2_coord):\n",
    "    \"\"\"\n",
    "    function to calculate the distance between two atoms. \n",
    "    Inputs : \n",
    "        atom1_coord - 3D coordinates of atom 1\n",
    "        atom2_coord - 3D coordinates of atom 2\n",
    "    Outputs :\n",
    "        distance between atom1 and atom2\n",
    "    \"\"\"\n",
    "    x_distance = atom1_coord[0] - atom2_coord[0]\n",
    "    y_distance = atom1_coord[1] - atom2_coord[1]\n",
    "    z_distance = atom1_coord[2] - atom2_coord[2]    \n",
    "    distance = numpy.sqrt(x_distance**2. + y_distance**2. + z_distance**2.)\n",
    "    return distance\n",
    "########################################################################\n",
    "file_location = 'water.xyz'\n",
    "symbols, coords = open_xyz(file_location)\n",
    "# extract atom labels & coordinates\n",
    "numcol = len(coords[0,:])\n",
    "for ii, coords_ii in enumerate(coords):\n",
    "    for jj, coords_jj in enumerate(coords[ii:,:]):\n",
    "        # calculate bond length\n",
    "        bond_length12 = calculate_distance(coords_ii,coords_jj)\n",
    "        if bond_check(bond_length12) is True:\n",
    "            print(F'{symbols[ii]} to {symbols[jj]} : {bond_length12:.3f}')"
   ]
  },
  {
   "cell_type": "code",
   "execution_count": null,
   "metadata": {},
   "outputs": [],
   "source": []
  }
 ],
 "metadata": {
  "kernelspec": {
   "display_name": "Python 3",
   "language": "python",
   "name": "python3"
  },
  "language_info": {
   "codemirror_mode": {
    "name": "ipython",
    "version": 3
   },
   "file_extension": ".py",
   "mimetype": "text/x-python",
   "name": "python",
   "nbconvert_exporter": "python",
   "pygments_lexer": "ipython3",
   "version": "3.7.3"
  }
 },
 "nbformat": 4,
 "nbformat_minor": 2
}
